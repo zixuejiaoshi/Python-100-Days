{
 "cells": [
  {
   "cell_type": "markdown",
   "metadata": {},
   "source": [
    "# 函数进阶"
   ]
  },
  {
   "cell_type": "code",
   "execution_count": null,
   "metadata": {},
   "outputs": [
    {
     "name": "stdout",
     "output_type": "stream",
     "text": [
      "(1, 2, 3, 4)\n",
      "{'a': 5, 'b': 6, 'c': 7}\n",
      "<class 'tuple'>\n",
      "<class 'dict'>\n",
      "1\n",
      "2\n",
      "3\n",
      "4\n",
      "5\n",
      "6\n",
      "7\n",
      "<class 'int'>\n",
      "<class 'int'>\n",
      "<class 'int'>\n",
      "<class 'int'>\n",
      "<class 'int'>\n",
      "<class 'int'>\n",
      "<class 'int'>\n",
      "28\n"
     ]
    }
   ],
   "source": [
    "# 用星号表达式来表示args可以接收0个或任意多个参数\n",
    "# 调用函数时传入的n个参数会组装成一个n元组赋给args\n",
    "# 如果一个参数都没有传入，那么args会是一个空元组\n",
    "\n",
    "# 参数列表中的**kwargs可以接收0个或任意多个关键字参数\n",
    "# 调用函数时传入的关键字参数会组装成一个字典（参数名是字典中的键，参数值是字典中的值）\n",
    "# 如果一个关键字参数都没有传入，那么kwargs会是一个空字典\n",
    "\n",
    "def calc(*args, **kwargs): # 位置参数和关键字参数\n",
    "    print(args)\n",
    "    print(kwargs)\n",
    "    print(type(args))\n",
    "    print(type(kwargs))\n",
    "    print(args[0])\n",
    "    print(args[1])\n",
    "    print(args[2])\n",
    "    print(args[3])\n",
    "    print(kwargs['a'])\n",
    "    print(kwargs['b'])\n",
    "    print(kwargs['c'])\n",
    "    items = list(args) + list(kwargs.values())  # 列表的拼接 [1, 2, 3, 4, 5, 6, 7]\n",
    "    result = 0\n",
    "    for item in items:\n",
    "        if type(item) in (int, float):\n",
    "            result += item\n",
    "    return result\n",
    "\n",
    "print(calc(1, 2, 3, 4, a=5, b=6, c=7))"
   ]
  },
  {
   "cell_type": "code",
   "execution_count": 7,
   "metadata": {},
   "outputs": [
    {
     "name": "stdout",
     "output_type": "stream",
     "text": [
      "[1, 2, 3, 4, 5]\n",
      "[4, 8]\n"
     ]
    }
   ],
   "source": [
    "# lambda函数\n",
    "# 只能有一行代码，代码中的表达式产生的运算结果就是这个匿名函数的返回值\n",
    "old_nums = [1, 2, 3, 4, 5]\n",
    "new_nums = list(map(lambda x: x * 2,filter(lambda x: x % 2 == 0, old_nums)))\n",
    "print(old_nums)\n",
    "print(new_nums)"
   ]
  },
  {
   "cell_type": "code",
   "execution_count": null,
   "metadata": {},
   "outputs": [],
   "source": [
    "# 偏函数\n",
    "\n"
   ]
  }
 ],
 "metadata": {
  "kernelspec": {
   "display_name": "Python 3",
   "language": "python",
   "name": "python3"
  },
  "language_info": {
   "codemirror_mode": {
    "name": "ipython",
    "version": 3
   },
   "file_extension": ".py",
   "mimetype": "text/x-python",
   "name": "python",
   "nbconvert_exporter": "python",
   "pygments_lexer": "ipython3",
   "version": "3.8.2"
  }
 },
 "nbformat": 4,
 "nbformat_minor": 2
}
