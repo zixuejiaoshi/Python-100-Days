{
 "cells": [
  {
   "cell_type": "code",
   "execution_count": 2,
   "metadata": {},
   "outputs": [
    {
     "name": "stdout",
     "output_type": "stream",
     "text": [
      "Status code: 200\n",
      "Total repositories: 19229799\n",
      "dict_keys(['total_count', 'incomplete_results', 'items'])\n"
     ]
    }
   ],
   "source": [
    "import requests\n",
    "\n",
    "url = 'https://api.github.com/search/repositories?q=language:python&sort=stars' # 搜索GitHub上的Python仓库\n",
    "headers = {'Accept': 'application/vnd.github.v3+json'}  # 告诉服务器期望以JSON格式返回数据\n",
    "r = requests.get(url, headers=headers)  # 发送GET请求\n",
    "print(f\"Status code: {r.status_code}\")  # 打印状态码\n",
    "response_dict = r.json()    # 将响应转换为字典\n",
    "print(f\"Total repositories: {response_dict['total_count']}\")  # 打印GitHub上Python仓库的总数\n",
    "print(response_dict.keys()) # 打印字典的键"
   ]
  }
 ],
 "metadata": {
  "kernelspec": {
   "display_name": "Python 3",
   "language": "python",
   "name": "python3"
  },
  "language_info": {
   "codemirror_mode": {
    "name": "ipython",
    "version": 3
   },
   "file_extension": ".py",
   "mimetype": "text/x-python",
   "name": "python",
   "nbconvert_exporter": "python",
   "pygments_lexer": "ipython3",
   "version": "3.8.2"
  }
 },
 "nbformat": 4,
 "nbformat_minor": 2
}
