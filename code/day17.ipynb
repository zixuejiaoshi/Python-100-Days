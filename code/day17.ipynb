{
 "cells": [
  {
   "cell_type": "code",
   "execution_count": null,
   "metadata": {},
   "outputs": [],
   "source": [
    "# 函数高级运用\n",
    "\n",
    "import random\n",
    "import time\n",
    "\n",
    "def download(filename):\n",
    "    print(f'开始下载{filename}.')\n",
    "    time.sleep(random.randint(2, 6))\n",
    "    print(f'{filename}下载完成.')\n",
    "\n",
    "def get_file_size(filename):\n",
    "    print(f'开始计算{filename}大小.')\n",
    "    time.sleep(random.randint(4, 8))\n",
    "\n",
    "def upload(filename):\n",
    "    print(f'开始上传{filename}.')\n",
    "    time.sleep(random.randint(2, 6))\n",
    "    print(f'{filename}上传完成.')\n",
    "\n",
    "start = time.time()\n",
    "download('MySQL从删库到跑路.avi')\n",
    "end = time.time()\n",
    "print(f'下载时间是{end - start:.2f}秒.')\n",
    "\n",
    "start = time.time()\n",
    "upload('Python从入门到住院.pdf')\n",
    "end = time.time()\n",
    "print(f'上传时间是{end - start:.2f}秒.')\n"
   ]
  },
  {
   "cell_type": "code",
   "execution_count": null,
   "metadata": {},
   "outputs": [
    {
     "name": "stdout",
     "output_type": "stream",
     "text": [
      "wrapper\n",
      "<function record_time.<locals>.wrapper at 0x7ff497949c10>\n",
      "<class 'function'>\n",
      "开始下载Python从入门到住院.pdf.\n",
      "Python从入门到住院.pdf下载完成.\n",
      "download2执行耗时5.00秒\n"
     ]
    }
   ],
   "source": [
    "import time\n",
    "\n",
    "# 装饰器，用一个函数装饰另外一个函数并为其提供额外的能力\n",
    "# 装饰器本身是一个函数，它的参数是被装饰的函数，它的返回值是一个带有装饰功能的函数\n",
    "\n",
    "def record_time(func):\n",
    "    def wrapper(*args, **kwargs): # wrapper是包装器函数，它的参数和返回值与被包装的函数相同\n",
    "        start = time.time()\n",
    "        result = func(*args, **kwargs)\n",
    "        end = time.time()\n",
    "        print(f'{func.__name__}执行耗时{end - start:.2f}秒')\n",
    "        return result\n",
    "    return wrapper\n",
    "\n",
    "\n",
    "def download2(filename):\n",
    "    print(f'开始下载{filename}.')\n",
    "    time.sleep(random.randint(2, 6))\n",
    "    print(f'{filename}下载完成.')\n",
    "\n",
    "\n",
    "# download = record_time(download)\n",
    "# download('Python从入门到住院.pdf')\n",
    "download2 = record_time(download2) # 装饰后的download2是拥有wrapper函数功能的函数\n",
    "print(download2.__name__) # wrapper\n",
    "print(download2)\n",
    "print(type(download2))\n",
    "download2('Python从入门到住院.pdf')\n"
   ]
  }
 ],
 "metadata": {
  "kernelspec": {
   "display_name": "Python 3",
   "language": "python",
   "name": "python3"
  },
  "language_info": {
   "codemirror_mode": {
    "name": "ipython",
    "version": 3
   },
   "file_extension": ".py",
   "mimetype": "text/x-python",
   "name": "python",
   "nbconvert_exporter": "python",
   "pygments_lexer": "ipython3",
   "version": "3.8.2"
  }
 },
 "nbformat": 4,
 "nbformat_minor": 2
}
