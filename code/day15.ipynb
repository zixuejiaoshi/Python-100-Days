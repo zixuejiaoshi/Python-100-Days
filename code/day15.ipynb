{
 "cells": [
  {
   "cell_type": "code",
   "execution_count": 5,
   "metadata": {},
   "outputs": [
    {
     "name": "stdout",
     "output_type": "stream",
     "text": [
      "abcdefghijklmnopqrstuvwxyzABCDEFGHIJKLMNOPQRSTUVWXYZ\n",
      "0123456789\n",
      "abcdefghijklmnopqrstuvwxyzABCDEFGHIJKLMNOPQRSTUVWXYZ0123456789\n",
      "7QbF\n",
      "uV8B\n",
      "XLNy\n",
      "twgS\n",
      "zQDk\n",
      "cBod\n",
      "9pNa\n",
      "riF6\n",
      "bNr2\n",
      "8bRE\n"
     ]
    }
   ],
   "source": [
    "import random\n",
    "import string\n",
    "\n",
    "print(string.ascii_letters)\n",
    "print(string.digits)\n",
    "\n",
    "ALL_CHARS = string.ascii_letters + string.digits\n",
    "print(ALL_CHARS)\n",
    "\n",
    "def generate_code(*, code_len=4): # * 表示后面的参数必须使用关键字参数传递\n",
    "    \"\"\"\n",
    "    生成指定长度的验证码\n",
    "    :param code_len: 验证码的长度(默认4个字符)\n",
    "    :return: 由大小写英文字母和数字构成的随机验证码\n",
    "    \"\"\"\n",
    "    code = ''\n",
    "    for _ in range(code_len):\n",
    "        index = random.randrange(0, len(ALL_CHARS))\n",
    "        code += ALL_CHARS[index]\n",
    "    return code\n",
    "\n",
    "for _ in range(10):\n",
    "    print(generate_code(code_len=4))\n"
   ]
  }
 ],
 "metadata": {
  "kernelspec": {
   "display_name": "Python 3",
   "language": "python",
   "name": "python3"
  },
  "language_info": {
   "codemirror_mode": {
    "name": "ipython",
    "version": 3
   },
   "file_extension": ".py",
   "mimetype": "text/x-python",
   "name": "python",
   "nbconvert_exporter": "python",
   "pygments_lexer": "ipython3",
   "version": "3.8.2"
  }
 },
 "nbformat": 4,
 "nbformat_minor": 2
}
